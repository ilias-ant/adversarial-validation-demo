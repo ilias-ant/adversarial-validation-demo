{
 "cells": [
  {
   "cell_type": "code",
   "execution_count": 1,
   "id": "4038a496",
   "metadata": {},
   "outputs": [],
   "source": [
    "!mkdir -p data/sberbank-russian-housing-market"
   ]
  },
  {
   "cell_type": "code",
   "execution_count": 2,
   "id": "c03a0ef0",
   "metadata": {},
   "outputs": [
    {
     "name": "stdout",
     "output_type": "stream",
     "text": [
      "Archive:  data/sberbank-russian-housing-market.zip\n",
      "  inflating: data/sberbank-russian-housing-market/data_dictionary.txt  \n",
      "  inflating: data/sberbank-russian-housing-market/macro.csv.zip  \n",
      "  inflating: data/sberbank-russian-housing-market/sample_submission.csv.zip  \n",
      "  inflating: data/sberbank-russian-housing-market/test.csv.zip  \n",
      "  inflating: data/sberbank-russian-housing-market/train.csv.zip  \n"
     ]
    }
   ],
   "source": [
    "!unzip -o data/sberbank-russian-housing-market.zip -d data/sberbank-russian-housing-market"
   ]
  },
  {
   "cell_type": "code",
   "execution_count": 3,
   "id": "bc09efca",
   "metadata": {},
   "outputs": [],
   "source": [
    "import zipfile\n",
    "\n",
    "import matplotlib.pyplot as plt\n",
    "import numpy as np\n",
    "import pandas as pd\n",
    "import xgboost as xgb\n",
    "from sklearn import svm\n",
    "from sklearn.metrics import RocCurveDisplay, auc\n",
    "from sklearn.model_selection import StratifiedKFold\n",
    "from tqdm.notebook import tqdm\n",
    "\n",
    "seed = np.random.RandomState(31337)"
   ]
  },
  {
   "cell_type": "code",
   "execution_count": 4,
   "id": "426ea934",
   "metadata": {},
   "outputs": [],
   "source": [
    "z = zipfile.ZipFile(\"data/sberbank-russian-housing-market/train.csv.zip\")\n",
    "z.extractall(\"data/sberbank-russian-housing-market/\")\n",
    "\n",
    "t = zipfile.ZipFile(\"data/sberbank-russian-housing-market/test.csv.zip\")\n",
    "t.extractall(\"data/sberbank-russian-housing-market/\")"
   ]
  },
  {
   "cell_type": "code",
   "execution_count": 5,
   "id": "522e9523",
   "metadata": {},
   "outputs": [
    {
     "data": {
      "text/plain": [
       "(30471, 292)"
      ]
     },
     "execution_count": 5,
     "metadata": {},
     "output_type": "execute_result"
    }
   ],
   "source": [
    "train = pd.read_csv(\"data/sberbank-russian-housing-market/train.csv\")\n",
    "\n",
    "train.shape"
   ]
  },
  {
   "cell_type": "code",
   "execution_count": 6,
   "id": "bebed19d",
   "metadata": {},
   "outputs": [
    {
     "data": {
      "text/plain": [
       "(7662, 291)"
      ]
     },
     "execution_count": 6,
     "metadata": {},
     "output_type": "execute_result"
    }
   ],
   "source": [
    "test = pd.read_csv(\"data/sberbank-russian-housing-market/test.csv\")\n",
    "\n",
    "test.shape"
   ]
  },
  {
   "cell_type": "code",
   "execution_count": 7,
   "id": "0b56a640",
   "metadata": {},
   "outputs": [
    {
     "data": {
      "text/plain": [
       "Index(['id', 'timestamp', 'full_sq', 'life_sq', 'floor', 'max_floor',\n",
       "       'material', 'build_year', 'num_room', 'kitch_sq',\n",
       "       ...\n",
       "       'cafe_count_5000_price_2500', 'cafe_count_5000_price_4000',\n",
       "       'cafe_count_5000_price_high', 'big_church_count_5000',\n",
       "       'church_count_5000', 'mosque_count_5000', 'leisure_count_5000',\n",
       "       'sport_count_5000', 'market_count_5000', 'price_doc'],\n",
       "      dtype='object', length=292)"
      ]
     },
     "execution_count": 7,
     "metadata": {},
     "output_type": "execute_result"
    }
   ],
   "source": [
    "train.columns"
   ]
  },
  {
   "cell_type": "code",
   "execution_count": 8,
   "id": "8c4df49c",
   "metadata": {},
   "outputs": [],
   "source": [
    "# drop target variable from our training dataset\n",
    "X_train = train.drop([\"price_doc\"], axis=1)"
   ]
  },
  {
   "cell_type": "code",
   "execution_count": 9,
   "id": "edcdf55f",
   "metadata": {},
   "outputs": [],
   "source": [
    "X_train[\"adval_label\"] = 1.0"
   ]
  },
  {
   "cell_type": "code",
   "execution_count": 10,
   "id": "0c67fd6e",
   "metadata": {},
   "outputs": [],
   "source": [
    "test[\"adval_label\"] = 0.0"
   ]
  },
  {
   "cell_type": "code",
   "execution_count": 11,
   "id": "6ff63ea1",
   "metadata": {},
   "outputs": [
    {
     "data": {
      "text/plain": [
       "(38133, 292)"
      ]
     },
     "execution_count": 11,
     "metadata": {},
     "output_type": "execute_result"
    }
   ],
   "source": [
    "# combine training & test datasets\n",
    "combined_dataset = pd.concat([X_train, test], axis=0, ignore_index=True)\n",
    "\n",
    "combined_dataset.shape"
   ]
  },
  {
   "cell_type": "code",
   "execution_count": 12,
   "id": "c270e417",
   "metadata": {},
   "outputs": [
    {
     "data": {
      "text/plain": [
       "Index(['id', 'timestamp', 'full_sq', 'life_sq', 'floor', 'max_floor',\n",
       "       'material', 'build_year', 'num_room', 'kitch_sq',\n",
       "       ...\n",
       "       'cafe_count_5000_price_2500', 'cafe_count_5000_price_4000',\n",
       "       'cafe_count_5000_price_high', 'big_church_count_5000',\n",
       "       'church_count_5000', 'mosque_count_5000', 'leisure_count_5000',\n",
       "       'sport_count_5000', 'market_count_5000', 'adval_label'],\n",
       "      dtype='object', length=292)"
      ]
     },
     "execution_count": 12,
     "metadata": {},
     "output_type": "execute_result"
    }
   ],
   "source": [
    "combined_dataset.columns"
   ]
  },
  {
   "cell_type": "code",
   "execution_count": 13,
   "id": "671c6e78",
   "metadata": {},
   "outputs": [],
   "source": [
    "# convert non-numerical columns to integers\n",
    "combined_dataset_numeric = combined_dataset.select_dtypes(exclude=[\"object\"])\n",
    "combined_dataset_obj = combined_dataset.select_dtypes(include=[\"object\"]).copy()\n",
    "\n",
    "for c in combined_dataset_obj:\n",
    "    combined_dataset_obj[c] = pd.factorize(combined_dataset_obj[c])[0]"
   ]
  },
  {
   "cell_type": "code",
   "execution_count": 14,
   "id": "062d98d0",
   "metadata": {},
   "outputs": [],
   "source": [
    "combined_dataset = pd.concat([combined_dataset_numeric, combined_dataset_obj], axis=1)"
   ]
  },
  {
   "cell_type": "code",
   "execution_count": 15,
   "id": "be49a3b3",
   "metadata": {},
   "outputs": [],
   "source": [
    "# shuffle it\n",
    "combined_dataset_shuffled = combined_dataset.sample(frac=1)"
   ]
  },
  {
   "cell_type": "code",
   "execution_count": 16,
   "id": "7890c1f5",
   "metadata": {},
   "outputs": [],
   "source": [
    "X = combined_dataset_shuffled.drop([\"adval_label\"], axis=1)"
   ]
  },
  {
   "cell_type": "code",
   "execution_count": 17,
   "id": "4aa308bb",
   "metadata": {},
   "outputs": [],
   "source": [
    "X = X.drop([\"id\", \"timestamp\"], axis=1)"
   ]
  },
  {
   "cell_type": "code",
   "execution_count": 18,
   "id": "a37ffd50",
   "metadata": {},
   "outputs": [],
   "source": [
    "y = combined_dataset_shuffled[\"adval_label\"]"
   ]
  },
  {
   "cell_type": "code",
   "execution_count": 19,
   "id": "acfaf59b",
   "metadata": {},
   "outputs": [],
   "source": [
    "n_splits = 6\n",
    "cv = StratifiedKFold(n_splits=n_splits, shuffle=True, random_state=seed)\n",
    "classifier = xgb.XGBClassifier()"
   ]
  },
  {
   "cell_type": "code",
   "execution_count": 20,
   "id": "6feeb1aa",
   "metadata": {
    "scrolled": false
   },
   "outputs": [
    {
     "data": {
      "application/vnd.jupyter.widget-view+json": {
       "model_id": "206d425ad6f146558b55b7dacfdef239",
       "version_major": 2,
       "version_minor": 0
      },
      "text/plain": [
       "  0%|          | 0/6 [00:00<?, ?it/s]"
      ]
     },
     "metadata": {},
     "output_type": "display_data"
    },
    {
     "data": {
      "image/png": "[encoded data removed]",
      "text/plain": [
       "<Figure size 600x600 with 1 Axes>"
      ]
     },
     "metadata": {},
     "output_type": "display_data"
    }
   ],
   "source": [
    "tprs = []\n",
    "aucs = []\n",
    "mean_fpr = np.linspace(0, 1, 100)\n",
    "\n",
    "fig, ax = plt.subplots(figsize=(6, 6))\n",
    "\n",
    "\n",
    "for fold, (train, test) in tqdm([*enumerate(cv.split(X, y))]):\n",
    "    classifier.fit(X.iloc[train], y.iloc[train])\n",
    "    viz = RocCurveDisplay.from_estimator(\n",
    "        classifier,\n",
    "        X.iloc[test],\n",
    "        y.iloc[test],\n",
    "        name=f\"ROC fold {fold}\",\n",
    "        alpha=0.3,\n",
    "        lw=1,\n",
    "        ax=ax,\n",
    "        plot_chance_level=(fold == n_splits - 1),\n",
    "    )\n",
    "    interp_tpr = np.interp(mean_fpr, viz.fpr, viz.tpr)\n",
    "    interp_tpr[0] = 0.0\n",
    "    tprs.append(interp_tpr)\n",
    "    aucs.append(viz.roc_auc)\n",
    "\n",
    "mean_tpr = np.mean(tprs, axis=0)\n",
    "mean_tpr[-1] = 1.0\n",
    "mean_auc = auc(mean_fpr, mean_tpr)\n",
    "std_auc = np.std(aucs)\n",
    "ax.plot(\n",
    "    mean_fpr,\n",
    "    mean_tpr,\n",
    "    color=\"b\",\n",
    "    label=r\"Mean ROC (AUC = %0.2f $\\pm$ %0.2f)\" % (mean_auc, std_auc),\n",
    "    lw=2,\n",
    "    alpha=0.8,\n",
    ")\n",
    "\n",
    "std_tpr = np.std(tprs, axis=0)\n",
    "tprs_upper = np.minimum(mean_tpr + std_tpr, 1)\n",
    "tprs_lower = np.maximum(mean_tpr - std_tpr, 0)\n",
    "ax.fill_between(\n",
    "    mean_fpr,\n",
    "    tprs_lower,\n",
    "    tprs_upper,\n",
    "    color=\"grey\",\n",
    "    alpha=0.2,\n",
    "    label=r\"$\\pm$ 1 std. dev.\",\n",
    ")\n",
    "\n",
    "ax.set(\n",
    "    xlim=[-0.05, 1.05],\n",
    "    ylim=[-0.05, 1.05],\n",
    "    xlabel=\"False Positive Rate\",\n",
    "    ylabel=\"True Positive Rate\",\n",
    ")\n",
    "ax.axis(\"square\")\n",
    "ax.legend(loc=\"lower right\")\n",
    "plt.show()"
   ]
  },
  {
   "cell_type": "code",
   "execution_count": 21,
   "id": "57c497ba",
   "metadata": {},
   "outputs": [
    {
     "data": {
      "text/plain": [
       "[0.9922806963986244,\n",
       " 0.9928696678617237,\n",
       " 0.9938467900207265,\n",
       " 0.9947494882495559,\n",
       " 0.9943766051476374,\n",
       " 0.9917432917281328]"
      ]
     },
     "execution_count": 21,
     "metadata": {},
     "output_type": "execute_result"
    }
   ],
   "source": [
    "aucs"
   ]
  }
 ],
 "metadata": {
  "kernelspec": {
   "display_name": "Python 3 (ipykernel)",
   "language": "python",
   "name": "python3"
  },
  "language_info": {
   "codemirror_mode": {
    "name": "ipython",
    "version": 3
   },
   "file_extension": ".py",
   "mimetype": "text/x-python",
   "name": "python",
   "nbconvert_exporter": "python",
   "pygments_lexer": "ipython3",
   "version": "3.10.12"
  }
 },
 "nbformat": 4,
 "nbformat_minor": 5
}
